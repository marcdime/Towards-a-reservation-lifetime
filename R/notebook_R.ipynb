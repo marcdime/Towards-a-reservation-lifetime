{
 "cells": [
  {
   "cell_type": "code",
   "execution_count": null,
   "metadata": {},
   "outputs": [],
   "source": [
    "#libraries used in this study\n",
    "library(tidyverse)\n",
    "library(ggplot2)\n",
    "library(survival)\n",
    "library(survminer)\n",
    "library(survivalROC)"
   ]
  },
  {
   "cell_type": "markdown",
   "metadata": {},
   "source": [
    "# Part I : Dataset Resort Booking (H1)"
   ]
  },
  {
   "cell_type": "markdown",
   "metadata": {},
   "source": [
    "## 1. Dataset exploration \n",
    "**Loading data**"
   ]
  },
  {
   "cell_type": "code",
   "execution_count": 6,
   "metadata": {},
   "outputs": [
    {
     "data": {
      "text/html": [
       "<table>\n",
       "<caption>A tibble: 1 × 31</caption>\n",
       "<thead>\n",
       "\t<tr><th scope=col>IsCanceled</th><th scope=col>LeadTime</th><th scope=col>ArrivalDateYear</th><th scope=col>ArrivalDateMonth</th><th scope=col>ArrivalDateWeekNumber</th><th scope=col>ArrivalDateDayOfMonth</th><th scope=col>StaysInWeekendNights</th><th scope=col>StaysInWeekNights</th><th scope=col>Adults</th><th scope=col>Children</th><th scope=col>...</th><th scope=col>DepositType</th><th scope=col>Agent</th><th scope=col>Company</th><th scope=col>DaysInWaitingList</th><th scope=col>CustomerType</th><th scope=col>ADR</th><th scope=col>RequiredCarParkingSpaces</th><th scope=col>TotalOfSpecialRequests</th><th scope=col>ReservationStatus</th><th scope=col>ReservationStatusDate</th></tr>\n",
       "\t<tr><th scope=col>&lt;int&gt;</th><th scope=col>&lt;dbl&gt;</th><th scope=col>&lt;dbl&gt;</th><th scope=col>&lt;chr&gt;</th><th scope=col>&lt;dbl&gt;</th><th scope=col>&lt;dbl&gt;</th><th scope=col>&lt;dbl&gt;</th><th scope=col>&lt;dbl&gt;</th><th scope=col>&lt;int&gt;</th><th scope=col>&lt;int&gt;</th><th scope=col>...</th><th scope=col>&lt;chr&gt;</th><th scope=col>&lt;chr&gt;</th><th scope=col>&lt;chr&gt;</th><th scope=col>&lt;dbl&gt;</th><th scope=col>&lt;chr&gt;</th><th scope=col>&lt;dbl&gt;</th><th scope=col>&lt;dbl&gt;</th><th scope=col>&lt;dbl&gt;</th><th scope=col>&lt;chr&gt;</th><th scope=col>&lt;date&gt;</th></tr>\n",
       "</thead>\n",
       "<tbody>\n",
       "\t<tr><td>0</td><td>342</td><td>2015</td><td>July</td><td>27</td><td>1</td><td>0</td><td>0</td><td>2</td><td>0</td><td>...</td><td>No Deposit</td><td>NULL</td><td>NULL</td><td>0</td><td>Transient</td><td>0</td><td>0</td><td>0</td><td>Check-Out</td><td>2015-07-01</td></tr>\n",
       "</tbody>\n",
       "</table>\n"
      ],
      "text/latex": [
       "A tibble: 1 × 31\n",
       "\\begin{tabular}{lllllllllllllllllllll}\n",
       " IsCanceled & LeadTime & ArrivalDateYear & ArrivalDateMonth & ArrivalDateWeekNumber & ArrivalDateDayOfMonth & StaysInWeekendNights & StaysInWeekNights & Adults & Children & ... & DepositType & Agent & Company & DaysInWaitingList & CustomerType & ADR & RequiredCarParkingSpaces & TotalOfSpecialRequests & ReservationStatus & ReservationStatusDate\\\\\n",
       " <int> & <dbl> & <dbl> & <chr> & <dbl> & <dbl> & <dbl> & <dbl> & <int> & <int> & ... & <chr> & <chr> & <chr> & <dbl> & <chr> & <dbl> & <dbl> & <dbl> & <chr> & <date>\\\\\n",
       "\\hline\n",
       "\t 0 & 342 & 2015 & July & 27 & 1 & 0 & 0 & 2 & 0 & ... & No Deposit & NULL & NULL & 0 & Transient & 0 & 0 & 0 & Check-Out & 2015-07-01\\\\\n",
       "\\end{tabular}\n"
      ],
      "text/markdown": [
       "\n",
       "A tibble: 1 × 31\n",
       "\n",
       "| IsCanceled &lt;int&gt; | LeadTime &lt;dbl&gt; | ArrivalDateYear &lt;dbl&gt; | ArrivalDateMonth &lt;chr&gt; | ArrivalDateWeekNumber &lt;dbl&gt; | ArrivalDateDayOfMonth &lt;dbl&gt; | StaysInWeekendNights &lt;dbl&gt; | StaysInWeekNights &lt;dbl&gt; | Adults &lt;int&gt; | Children &lt;int&gt; | ... ... | DepositType &lt;chr&gt; | Agent &lt;chr&gt; | Company &lt;chr&gt; | DaysInWaitingList &lt;dbl&gt; | CustomerType &lt;chr&gt; | ADR &lt;dbl&gt; | RequiredCarParkingSpaces &lt;dbl&gt; | TotalOfSpecialRequests &lt;dbl&gt; | ReservationStatus &lt;chr&gt; | ReservationStatusDate &lt;date&gt; |\n",
       "|---|---|---|---|---|---|---|---|---|---|---|---|---|---|---|---|---|---|---|---|---|\n",
       "| 0 | 342 | 2015 | July | 27 | 1 | 0 | 0 | 2 | 0 | ... | No Deposit | NULL | NULL | 0 | Transient | 0 | 0 | 0 | Check-Out | 2015-07-01 |\n",
       "\n"
      ],
      "text/plain": [
       "  IsCanceled LeadTime ArrivalDateYear ArrivalDateMonth ArrivalDateWeekNumber\n",
       "1 0          342      2015            July             27                   \n",
       "  ArrivalDateDayOfMonth StaysInWeekendNights StaysInWeekNights Adults Children\n",
       "1 1                     0                    0                 2      0       \n",
       "  ... DepositType Agent Company DaysInWaitingList CustomerType ADR\n",
       "1 ... No Deposit  NULL  NULL    0                 Transient    0  \n",
       "  RequiredCarParkingSpaces TotalOfSpecialRequests ReservationStatus\n",
       "1 0                        0                      Check-Out        \n",
       "  ReservationStatusDate\n",
       "1 2015-07-01           "
      ]
     },
     "metadata": {},
     "output_type": "display_data"
    }
   ],
   "source": [
    "data_raw <- read_csv(\"H1_resort.csv\", col_types = cols(IsCanceled='i', Adults = 'i', Children ='i', Babies ='i'))\n",
    "head(data_raw,1)"
   ]
  },
  {
   "cell_type": "markdown",
   "metadata": {},
   "source": [
    "We converted a couple of columns into integer. Now we do some transformation on the dataset data_raw: \n",
    "- Convert the arrival date into one column\n",
    "- According to the article, we can estimate the **cancellation date** based on ReservationStatus, ReservationStatusDate (date of booking update) and booking date. This covariate is a gauge relevant only if cancelation. I name it **BookToCancel**. \n"
   ]
  },
  {
   "cell_type": "code",
   "execution_count": 8,
   "metadata": {},
   "outputs": [
    {
     "data": {
      "text/html": [
       "<style>\n",
       ".list-inline {list-style: none; margin:0; padding: 0}\n",
       ".list-inline>li {display: inline-block}\n",
       ".list-inline>li:not(:last-child)::after {content: \"\\00b7\"; padding: 0 .5ex}\n",
       "</style>\n",
       "<ol class=list-inline><li>40060</li><li>34</li></ol>\n"
      ],
      "text/latex": [
       "\\begin{enumerate*}\n",
       "\\item 40060\n",
       "\\item 34\n",
       "\\end{enumerate*}\n"
      ],
      "text/markdown": [
       "1. 40060\n",
       "2. 34\n",
       "\n",
       "\n"
      ],
      "text/plain": [
       "[1] 40060    34"
      ]
     },
     "metadata": {},
     "output_type": "display_data"
    }
   ],
   "source": [
    "# Tranform the date of arrival and calculate the date of cancellation if cancellation happens\n",
    "format_date <- function(x) as.Date(x, format = \"%Y/%B/%d\")\n",
    "#Concatenate Year, Month, Date of arrivale date\n",
    "string_date = paste(as.character(data_raw$ArrivalDateYear), \n",
    "          data_raw$ArrivalDateMonth, \n",
    "          as.character(data_raw$ArrivalDateDayOfMonth), \n",
    "          sep=\"/\")\n",
    "data_raw <- mutate(data_raw,\n",
    "               ADR = as.integer(ADR),\n",
    "               ArrivalDate = format_date(string_date),\n",
    "               BookingDate = ArrivalDate - LeadTime,\n",
    "               BookToCancel = as.numeric(ReservationStatusDate - BookingDate)\n",
    "               )\n",
    "dim(data_raw)"
   ]
  },
  {
   "cell_type": "markdown",
   "metadata": {},
   "source": [
    "### ``Checking the validity of the data``\n",
    "\n",
    "Due to the fact that in reality, the elapsed time between the booking date and the cancelation date (*BookToCancel*) is in general smaller than the elapsed time between the booking date and the arrival date (*LeadTime*). There would be a human mistake when entering the data at this point, for some reasons a staff can enter the reservation status in the field *ReservationStatusDate* few days later for a cancelled booking ! \n",
    "\n",
    "In this respect, we want to check the \"unsual\" bookings by comparing BookToCancel (in days) with LeadTime (in days) for the cancelations status being True (Iscanceled = 1) and False (IsCanceled = 0)"
   ]
  },
  {
   "cell_type": "code",
   "execution_count": 9,
   "metadata": {},
   "outputs": [
    {
     "data": {
      "text/html": [
       "<style>\n",
       ".list-inline {list-style: none; margin:0; padding: 0}\n",
       ".list-inline>li {display: inline-block}\n",
       ".list-inline>li:not(:last-child)::after {content: \"\\00b7\"; padding: 0 .5ex}\n",
       "</style>\n",
       "<ol class=list-inline><li>0</li><li>34</li><li>0</li><li>34</li></ol>\n"
      ],
      "text/latex": [
       "\\begin{enumerate*}\n",
       "\\item 0\n",
       "\\item 34\n",
       "\\item 0\n",
       "\\item 34\n",
       "\\end{enumerate*}\n"
      ],
      "text/markdown": [
       "1. 0\n",
       "2. 34\n",
       "3. 0\n",
       "4. 34\n",
       "\n",
       "\n"
      ],
      "text/plain": [
       "[1]  0 34  0 34"
      ]
     },
     "metadata": {},
     "output_type": "display_data"
    }
   ],
   "source": [
    "c(dim(filter(data_raw, BookToCancel > LeadTime, IsCanceled == 1)),\n",
    "  dim(filter(data_raw, BookToCancel < LeadTime, IsCanceled == 0)))"
   ]
  },
  {
   "cell_type": "markdown",
   "metadata": {},
   "source": [
    "> The booking time of the dataset is totally correct, there is no exception.\n",
    "\n",
    "We check now the censored data (*IsCanceled* status). We can see below that the number of cancellation of the entire dataset is the same as the one extracted from the *IsCanceled* status following each type of cancellation (Canceled or No-Show)"
   ]
  },
  {
   "cell_type": "code",
   "execution_count": 10,
   "metadata": {},
   "outputs": [
    {
     "data": {
      "text/plain": [
       "\n",
       " Canceled Check-Out   No-Show \n",
       "    10831     28938       291 "
      ]
     },
     "metadata": {},
     "output_type": "display_data"
    }
   ],
   "source": [
    "table(data_raw$ReservationStatus)"
   ]
  },
  {
   "cell_type": "code",
   "execution_count": 11,
   "metadata": {},
   "outputs": [
    {
     "data": {
      "text/plain": [
       "\n",
       "Canceled  No-Show \n",
       "   10831      291 "
      ]
     },
     "metadata": {},
     "output_type": "display_data"
    }
   ],
   "source": [
    "table(filter(data_raw, IsCanceled == 1)$ReservationStatus)"
   ]
  },
  {
   "cell_type": "markdown",
   "metadata": {},
   "source": [
    "**Select the columns for survival analysis**\n",
    "\n",
    "This is very important section where we define below the censored data and the features (covariates) of our analysis. Questions raised for the analysis are discussed as follows :\n",
    "\n",
    "- For the censored data: we have time duration (*LeadTime*, *BookToCancel*) and we have event observation (*IsCanceled*). The problem of our dataset is which one of the time duration we must choose to have a \"faithful/correct\" survival analysis. We cope to the situation where we are dealing with  **not homogeneous** population in which there is no equal predefined time limite for each experience. That means each observation (booking canceled or not canceled) is always biased whatever we take *LeadTime* (elapsed time from booking to arrival date) or *BookToCancel* (booking to cancellation) as duration time.<br>\n",
    "  The survival analysis of this problem is indeed very complicated. In reality, one should deal with specific models (for intance, survival model called *Discrete Time Proportional Odds* for airline ticketing analysis by [D. C. Iliescu *et al.*](http://web.mit.edu/11.951/oldstuff/albacete/Other_Documents/Europe%20Transport%20Conference/applied_methods_in_tra/analysis_of_us_air1689.pdf)) to analyse and interprete the results properly. In the framework of this project, we simplify this issue by lifting out this bias imposed by the arrival date on each observation:  we will take *LeadTime* as time outcome, the time duration for an experience is therefore estimated from booking until arrival date. Henceforth, we must be aware that the interpretation of the survival results in this project has to be based on this simplified pattern. <br>  \n",
    "  \n",
    "  \n",
    "- For the features : we add additionnal features *totalNights* and *havingKids* based on others (see code for definition). Taking into account the booking category *resort*, we select important features including categorial and continous variables for which we think they exhibit most impact on this kind of booking: *StaysInWeekendNights, Adults, Babies, ADR, DistributionChannel, DepositType, totalNights, havingKids, ArrivalDateMonth* \n"
   ]
  },
  {
   "cell_type": "code",
   "execution_count": 128,
   "metadata": {
    "scrolled": true
   },
   "outputs": [],
   "source": [
    "selected_cols = c(\"IsCanceled\", \"LeadTime\", \"ArrivalDateMonth\", \"StaysInWeekendNights\", \n",
    "                  \"StaysInWeekNights\",\"Adults\", \"Children\",\n",
    "                  \"Babies\", \"ADR\", \"DistributionChannel\", \"DepositType\", \"BookToCancel\")\n",
    "data_selected <- select(data_raw, selected_cols)"
   ]
  },
  {
   "cell_type": "code",
   "execution_count": 15,
   "metadata": {},
   "outputs": [
    {
     "data": {
      "text/html": [
       "<table>\n",
       "<caption>A tibble: 1 × 14</caption>\n",
       "<thead>\n",
       "\t<tr><th scope=col>IsCanceled</th><th scope=col>LeadTime</th><th scope=col>ArrivalDateMonth</th><th scope=col>StaysInWeekendNights</th><th scope=col>StaysInWeekNights</th><th scope=col>Adults</th><th scope=col>Children</th><th scope=col>Babies</th><th scope=col>ADR</th><th scope=col>DistributionChannel</th><th scope=col>DepositType</th><th scope=col>BookToCancel</th><th scope=col>havingKids</th><th scope=col>totalNights</th></tr>\n",
       "\t<tr><th scope=col>&lt;int&gt;</th><th scope=col>&lt;dbl&gt;</th><th scope=col>&lt;chr&gt;</th><th scope=col>&lt;dbl&gt;</th><th scope=col>&lt;dbl&gt;</th><th scope=col>&lt;int&gt;</th><th scope=col>&lt;int&gt;</th><th scope=col>&lt;int&gt;</th><th scope=col>&lt;int&gt;</th><th scope=col>&lt;chr&gt;</th><th scope=col>&lt;chr&gt;</th><th scope=col>&lt;dbl&gt;</th><th scope=col>&lt;int&gt;</th><th scope=col>&lt;dbl&gt;</th></tr>\n",
       "</thead>\n",
       "<tbody>\n",
       "\t<tr><td>0</td><td>11.21311</td><td>July</td><td>0</td><td>0</td><td>2</td><td>0</td><td>0</td><td>0</td><td>Direct</td><td>No Deposit</td><td>342</td><td>0</td><td>0</td></tr>\n",
       "</tbody>\n",
       "</table>\n"
      ],
      "text/latex": [
       "A tibble: 1 × 14\n",
       "\\begin{tabular}{llllllllllllll}\n",
       " IsCanceled & LeadTime & ArrivalDateMonth & StaysInWeekendNights & StaysInWeekNights & Adults & Children & Babies & ADR & DistributionChannel & DepositType & BookToCancel & havingKids & totalNights\\\\\n",
       " <int> & <dbl> & <chr> & <dbl> & <dbl> & <int> & <int> & <int> & <int> & <chr> & <chr> & <dbl> & <int> & <dbl>\\\\\n",
       "\\hline\n",
       "\t 0 & 11.21311 & July & 0 & 0 & 2 & 0 & 0 & 0 & Direct & No Deposit & 342 & 0 & 0\\\\\n",
       "\\end{tabular}\n"
      ],
      "text/markdown": [
       "\n",
       "A tibble: 1 × 14\n",
       "\n",
       "| IsCanceled &lt;int&gt; | LeadTime &lt;dbl&gt; | ArrivalDateMonth &lt;chr&gt; | StaysInWeekendNights &lt;dbl&gt; | StaysInWeekNights &lt;dbl&gt; | Adults &lt;int&gt; | Children &lt;int&gt; | Babies &lt;int&gt; | ADR &lt;int&gt; | DistributionChannel &lt;chr&gt; | DepositType &lt;chr&gt; | BookToCancel &lt;dbl&gt; | havingKids &lt;int&gt; | totalNights &lt;dbl&gt; |\n",
       "|---|---|---|---|---|---|---|---|---|---|---|---|---|---|\n",
       "| 0 | 11.21311 | July | 0 | 0 | 2 | 0 | 0 | 0 | Direct | No Deposit | 342 | 0 | 0 |\n",
       "\n"
      ],
      "text/plain": [
       "  IsCanceled LeadTime ArrivalDateMonth StaysInWeekendNights StaysInWeekNights\n",
       "1 0          11.21311 July             0                    0                \n",
       "  Adults Children Babies ADR DistributionChannel DepositType BookToCancel\n",
       "1 2      0        0      0   Direct              No Deposit  342         \n",
       "  havingKids totalNights\n",
       "1 0          0          "
      ]
     },
     "metadata": {},
     "output_type": "display_data"
    },
    {
     "data": {
      "text/html": [
       "<style>\n",
       ".list-inline {list-style: none; margin:0; padding: 0}\n",
       ".list-inline>li {display: inline-block}\n",
       ".list-inline>li:not(:last-child)::after {content: \"\\00b7\"; padding: 0 .5ex}\n",
       "</style>\n",
       "<ol class=list-inline><li>40058</li><li>14</li></ol>\n"
      ],
      "text/latex": [
       "\\begin{enumerate*}\n",
       "\\item 40058\n",
       "\\item 14\n",
       "\\end{enumerate*}\n"
      ],
      "text/markdown": [
       "1. 40058\n",
       "2. 14\n",
       "\n",
       "\n"
      ],
      "text/plain": [
       "[1] 40058    14"
      ]
     },
     "metadata": {},
     "output_type": "display_data"
    }
   ],
   "source": [
    "resort <- mutate(filter(data_selected, LeadTime <= 548),\n",
    "                LeadTime = LeadTime/30.5,   # LeadTime in months\n",
    "                havingKids = Children + Babies,\n",
    "                totalNights = StaysInWeekNights + StaysInWeekendNights\n",
    "                )\n",
    "head(resort,1)\n",
    "dim(resort)"
   ]
  },
  {
   "cell_type": "markdown",
   "metadata": {},
   "source": [
    "**Statistical description about the dataset \"resort\" we are going to work with :**"
   ]
  },
  {
   "cell_type": "code",
   "execution_count": 16,
   "metadata": {},
   "outputs": [
    {
     "data": {
      "text/plain": [
       "\n",
       "    0     1  <NA> \n",
       "28936 11122     0 "
      ]
     },
     "metadata": {},
     "output_type": "display_data"
    },
    {
     "data": {
      "text/plain": [
       "\n",
       "    0     1     2  <NA> \n",
       "39512   539     9     0 "
      ]
     },
     "metadata": {},
     "output_type": "display_data"
    },
    {
     "data": {
      "text/plain": [
       "\n",
       "Corporate    Direct     TA/TO Undefined      <NA> \n",
       "     3269      7865     28925         1         0 "
      ]
     },
     "metadata": {},
     "output_type": "display_data"
    },
    {
     "data": {
      "text/plain": [
       "\n",
       "No Deposit Non Refund Refundable       <NA> \n",
       "     38199       1719        142          0 "
      ]
     },
     "metadata": {},
     "output_type": "display_data"
    }
   ],
   "source": [
    "# output of some categorical features : is there missing data ?\n",
    "table(resort$IsCanceled, useNA =\"always\")\n",
    "table(data_selected$Babies, useNA =\"always\")\n",
    "table(data_selected$DistributionChannel, useNA =\"always\")\n",
    "table(data_selected$DepositType,useNA =\"always\")"
   ]
  },
  {
   "cell_type": "code",
   "execution_count": 23,
   "metadata": {
    "scrolled": true
   },
   "outputs": [
    {
     "data": {
      "text/plain": [
       "   IsCanceled        LeadTime       ArrivalDateMonth   StaysInWeekendNights\n",
       " Min.   :0.0000   Min.   : 0.0000   Length:40058       Min.   : 0.00       \n",
       " 1st Qu.:0.0000   1st Qu.: 0.3279   Class :character   1st Qu.: 0.00       \n",
       " Median :0.0000   Median : 1.8689   Mode  :character   Median : 1.00       \n",
       " Mean   :0.2776   Mean   : 3.0375                      Mean   : 1.19       \n",
       " 3rd Qu.:1.0000   3rd Qu.: 5.0820                      3rd Qu.: 2.00       \n",
       " Max.   :1.0000   Max.   :17.7705                      Max.   :19.00       \n",
       " StaysInWeekNights     Adults          Children           Babies      \n",
       " Min.   : 0.000    Min.   : 0.000   Min.   : 0.0000   Min.   :0.0000  \n",
       " 1st Qu.: 1.000    1st Qu.: 2.000   1st Qu.: 0.0000   1st Qu.:0.0000  \n",
       " Median : 3.000    Median : 2.000   Median : 0.0000   Median :0.0000  \n",
       " Mean   : 3.128    Mean   : 1.867   Mean   : 0.1287   Mean   :0.0139  \n",
       " 3rd Qu.: 5.000    3rd Qu.: 2.000   3rd Qu.: 0.0000   3rd Qu.:0.0000  \n",
       " Max.   :50.000    Max.   :55.000   Max.   :10.0000   Max.   :2.0000  \n",
       "      ADR         DistributionChannel DepositType         BookToCancel   \n",
       " Min.   : -6.00   Length:40058        Length:40058       Min.   :  0.00  \n",
       " 1st Qu.: 50.00   Class :character    Class :character   1st Qu.:  6.00  \n",
       " Median : 75.00   Mode  :character    Mode  :character   Median : 35.00  \n",
       " Mean   : 94.75                                          Mean   : 74.58  \n",
       " 3rd Qu.:125.00                                          3rd Qu.:119.00  \n",
       " Max.   :508.00                                          Max.   :552.00  \n",
       "   havingKids       totalNights    \n",
       " Min.   : 0.0000   Min.   : 0.000  \n",
       " 1st Qu.: 0.0000   1st Qu.: 2.000  \n",
       " Median : 0.0000   Median : 3.000  \n",
       " Mean   : 0.1426   Mean   : 4.318  \n",
       " 3rd Qu.: 0.0000   3rd Qu.: 7.000  \n",
       " Max.   :10.0000   Max.   :69.000  "
      ]
     },
     "metadata": {},
     "output_type": "display_data"
    }
   ],
   "source": [
    "summary(resort)"
   ]
  },
  {
   "cell_type": "markdown",
   "metadata": {},
   "source": [
    "> We notice that *ArrivalDateMonth, Country, DistributionChannel, DepositType* are string features. We will need to categorize them when we want to use."
   ]
  },
  {
   "cell_type": "markdown",
   "metadata": {},
   "source": [
    "\n",
    "**Visualization of the dataset**"
   ]
  },
  {
   "cell_type": "code",
   "execution_count": 20,
   "metadata": {
    "scrolled": false
   },
   "outputs": [
    {
     "data": {
      "image/png": "[encoded data removed]",
      "text/plain": [
       "plot without title"
      ]
     },
     "metadata": {
      "image/png": {
       "height": 180,
       "width": 300
      },
      "text/plain": {
       "height": 180,
       "width": 300
      }
     },
     "output_type": "display_data"
    }
   ],
   "source": [
    "resort_df <- as.data.frame(resort)\n",
    "options(repr.plot.width=5, repr.plot.height=3)\n",
    "ggplot(resort_df,aes(x=LeadTime)) + \n",
    "    geom_histogram(aes(y=..density..), color = \"blue\", fill = \"white\", bins = 20) +\n",
    "    geom_density(alpha = 0.5, fill = \"orange\")"
   ]
  },
  {
   "cell_type": "markdown",
   "metadata": {},
   "source": [
    "> - The probability distribution curve is of exponential form\n",
    "> - The number of bookings for a time booking (booking-arrival date) within 1-2 month mostly dominates the total number of booking"
   ]
  },
  {
   "cell_type": "code",
   "execution_count": 22,
   "metadata": {},
   "outputs": [
    {
     "data": {
      "image/png": "[encoded data removed]",
      "text/plain": [
       "plot without title"
      ]
     },
     "metadata": {
      "image/png": {
       "height": 180,
       "width": 300
      },
      "text/plain": {
       "height": 180,
       "width": 300
      }
     },
     "output_type": "display_data"
    }
   ],
   "source": [
    "# Here are histograms for reservation statuses no-cancelation (0) and cancelation (1) versus time (in months)\n",
    "resort_df$IsCanceled <- factor(resort_df$IsCanceled, levels = c(\"0\", \"1\"))\n",
    "options(repr.plot.width=5, repr.plot.height=3)\n",
    "ggplot(resort_df,aes(x=LeadTime, fill = IsCanceled)) +          \n",
    "    geom_histogram( aes(y=..density..), bins = 20) \n",
    "          "
   ]
  },
  {
   "cell_type": "markdown",
   "metadata": {},
   "source": [
    "> A high density of cancellation (IsCanceled = 1) for a short booking period is vey prononced as compared to a long booking period over a the whole length of the sample. However, the tendency would be inverse if we consider the ratio **cancellation/no-cancellation (1/0)**: larger the booking period, higher the ratio is. "
   ]
  },
  {
   "cell_type": "markdown",
   "metadata": {},
   "source": [
    "**Testing the dependence of the observation (booking cancellation or not) over some features**\n",
    "\n",
    "We have selected few features. To strenghen our intuitive arguments, we can perform the test of interaction of features with the booking observation. Here are few features we want to test :\n",
    "\n",
    "- *DistributionChannel*\n",
    "- Number of baby, *Babies*\n",
    "- *DepositType*"
   ]
  },
  {
   "cell_type": "code",
   "execution_count": 24,
   "metadata": {
    "scrolled": true
   },
   "outputs": [
    {
     "data": {
      "text/plain": [
       "          DistributionChannel\n",
       "IsCanceled Corporate Direct TA/TO Undefined\n",
       "         0      79.0   83.1  68.5     100.0\n",
       "         1      21.0   16.9  31.5       0.0"
      ]
     },
     "metadata": {},
     "output_type": "display_data"
    },
    {
     "data": {
      "text/plain": [
       "\n",
       "\tPearson's Chi-squared test\n",
       "\n",
       "data:  table(IsCanceled, DistributionChannel)\n",
       "X-squared = 741.26, df = 3, p-value < 2.2e-16\n"
      ]
     },
     "metadata": {},
     "output_type": "display_data"
    }
   ],
   "source": [
    "with(resort, round(100 * prop.table(table(IsCanceled, DistributionChannel), 2), 1))\n",
    "with(resort, chisq.test(table(IsCanceled, DistributionChannel)))"
   ]
  },
  {
   "cell_type": "markdown",
   "metadata": {},
   "source": [
    "> - The frequency table shows that booking issued from traveling agencies (TA/TO) has a highest rate of cancelation while the undefined booking has no cancelation.\n",
    "> - Chi-square test (of independence) : we see that the p-value is extremely small, we don't accept H$_{0}$ hypothesis, meaning that there is a certain relationship between the distribution channel and booking cancelation. "
   ]
  },
  {
   "cell_type": "markdown",
   "metadata": {},
   "source": [
    "Other retionships of covariates with IsCanceled are also relevant and in line with our feature selection: "
   ]
  },
  {
   "cell_type": "code",
   "execution_count": 25,
   "metadata": {},
   "outputs": [
    {
     "data": {
      "text/plain": [
       "\n",
       "\tPearson's Chi-squared test\n",
       "\n",
       "data:  table(IsCanceled, Babies)\n",
       "X-squared = 22.339, df = 2, p-value = 1.41e-05\n"
      ]
     },
     "metadata": {},
     "output_type": "display_data"
    }
   ],
   "source": [
    "# IsCanceled vs Babies : \n",
    "with(resort, chisq.test(table(IsCanceled, Babies)))"
   ]
  },
  {
   "cell_type": "code",
   "execution_count": 26,
   "metadata": {},
   "outputs": [
    {
     "data": {
      "text/plain": [
       "\n",
       "\tPearson's Chi-squared test\n",
       "\n",
       "data:  table(IsCanceled, DepositType)\n",
       "X-squared = 4174, df = 2, p-value < 2.2e-16\n"
      ]
     },
     "metadata": {},
     "output_type": "display_data"
    }
   ],
   "source": [
    "# IsCanceled vs DepositType\n",
    "with(resort, chisq.test(table(IsCanceled, DepositType)))"
   ]
  },
  {
   "cell_type": "markdown",
   "metadata": {},
   "source": [
    "---\n",
    "## 2. Survival analysis of the dataset \n",
    "\n",
    "The purpose of this section is to dertermine booking survival curves (Kaplan-Meier), hazard analysis (Cox proportional hazard) and the impact of feature selection on the technologies used. We also perform logrank test to figure out the effect of groups in covariates on the censored outcome.\n",
    "\n",
    "Note that we employ a couple of covariates to illustrate our analysis, which may be extended to others eventually. \n",
    "\n",
    "\n",
    "### a. Non-parametric analysis\n",
    "\n",
    "We investigate first  ``Kaplan-Meier`` (KM) model. The computation is performed over entire dataset *resort*.\n",
    "\n",
    "- **KM estimator without covariates**"
   ]
  },
  {
   "cell_type": "code",
   "execution_count": 27,
   "metadata": {},
   "outputs": [
    {
     "data": {
      "text/plain": [
       "Call: survfit(formula = Surv(LeadTime, IsCanceled) ~ 1, data = resort)\n",
       "\n",
       "       n   events   median  0.95LCL  0.95UCL \n",
       "40058.00 11122.00     7.57     7.38     7.70 "
      ]
     },
     "metadata": {},
     "output_type": "display_data"
    }
   ],
   "source": [
    "fit.KM <- survfit(Surv(LeadTime, IsCanceled) ~ 1, data = resort)\n",
    "fit.KM"
   ]
  },
  {
   "cell_type": "markdown",
   "metadata": {},
   "source": [
    "> A half of booking will be canceled for booking time of about 7.6 months within a very tiny 5%-level confidence interval ($\\pm$ 1 week)."
   ]
  },
  {
   "cell_type": "code",
   "execution_count": 30,
   "metadata": {
    "scrolled": false
   },
   "outputs": [
    {
     "data": {
      "image/png": "[encoded data removed]",
      "text/plain": [
       "plot without title"
      ]
     },
     "metadata": {
      "image/png": {
       "height": 240,
       "width": 300
      },
      "text/plain": {
       "height": 240,
       "width": 300
      }
     },
     "output_type": "display_data"
    }
   ],
   "source": [
    "options(repr.plot.width=5, repr.plot.height=4)\n",
    "ggsurvplot(fit.KM, risk.table = FALSE, surv.median.line = \"hv\", main = \"Kaplan-Meier estimators for booking survival\", \n",
    "           ylab = \"Survival probability\", xlab = \"LeadTime (in months)\", ggtheme = theme_bw())"
   ]
  },
  {
   "cell_type": "markdown",
   "metadata": {},
   "source": [
    "> The KM estimator shows the survival booking curve (no-cancelation probability) as a function of booking time. Larger a booking period is, higher a booking cancellation probability is (same observation with histogram). <br>\n",
    ">Note that we intentionnally stop the experience for booking time of 1.5 years (LeadTime < 548 days)."
   ]
  },
  {
   "cell_type": "markdown",
   "metadata": {},
   "source": [
    "- **KM estimator with covariates : we use stratified ``logrank test`` to compare different levels of selected covariates**\n"
   ]
  },
  {
   "cell_type": "code",
   "execution_count": 31,
   "metadata": {},
   "outputs": [],
   "source": [
    "# Delete the \"Undefined\" group in DistributionCHannel (because of only 1 data) \n",
    "# Factorize each categorial covariate into groups \n",
    "resort <- filter(resort, DistributionChannel != \"Undefined\")\n",
    "resortKMcov <- resort %>%\n",
    "               mutate(DistributionChannel = factor(DistributionChannel, levels = c(\"Direct\", \"Corporate\", \"TA/TO\")),\n",
    "                      Babies = factor(Babies, levels = c(\"0\", \"1\", \"2\")),\n",
    "                      DepositType = factor(DepositType, levels = c(\"No Deposit\", \"Non Refund\", \"Refundable\")))    "
   ]
  },
  {
   "cell_type": "code",
   "execution_count": 32,
   "metadata": {
    "scrolled": true
   },
   "outputs": [
    {
     "data": {
      "text/plain": [
       "\n",
       "   Direct Corporate     TA/TO \n",
       "     7863      3269     28925 "
      ]
     },
     "metadata": {},
     "output_type": "display_data"
    },
    {
     "data": {
      "text/plain": [
       "\n",
       "No Deposit Non Refund Refundable \n",
       "     38196       1719        142 "
      ]
     },
     "metadata": {},
     "output_type": "display_data"
    },
    {
     "data": {
      "text/plain": [
       "\n",
       "    0     1     2 \n",
       "39509   539     9 "
      ]
     },
     "metadata": {},
     "output_type": "display_data"
    }
   ],
   "source": [
    "table(resortKMcov$DistributionChannel) \n",
    "table(resortKMcov$DepositType)\n",
    "table(resortKMcov$Babies)"
   ]
  },
  {
   "cell_type": "code",
   "execution_count": 35,
   "metadata": {},
   "outputs": [
    {
     "data": {
      "text/plain": [
       "Call:\n",
       "survdiff(formula = Surv(LeadTime, IsCanceled) ~ Babies, data = resortKMcov)\n",
       "\n",
       "             N Observed Expected (O-E)^2/E (O-E)^2/V\n",
       "Babies=0 39509    11019 10974.61     0.180    13.615\n",
       "Babies=1   539      101   143.98    12.830    13.062\n",
       "Babies=2     9        2     3.41     0.582     0.586\n",
       "\n",
       " Chisq= 13.7  on 2 degrees of freedom, p= 0.001 "
      ]
     },
     "metadata": {},
     "output_type": "display_data"
    },
    {
     "data": {
      "image/png": "[encoded data removed]",
      "text/plain": [
       "plot without title"
      ]
     },
     "metadata": {
      "image/png": {
       "height": 240,
       "width": 300
      },
      "text/plain": {
       "height": 240,
       "width": 300
      }
     },
     "output_type": "display_data"
    }
   ],
   "source": [
    "# We now perform the test with \"Babies\" feature\n",
    "fit.logrank <- survdiff(Surv(LeadTime, IsCanceled) ~ Babies, data = resortKMcov)\n",
    "fit.logrank\n",
    "options(repr.plot.width=5, repr.plot.height=4)\n",
    "ggsurvplot(survfit(Surv(LeadTime, IsCanceled) ~ Babies, data = resortKMcov), pval = TRUE, risk.table = FALSE,\n",
    "           surv.median.line = \"hv\", main = \"Kaplan-Meier estimators for booking\", \n",
    "           ylab = \"Survival probability\", xlab = \"LeadTime (in months)\",conf.int = TRUE, ggtheme = theme())"
   ]
  },
  {
   "cell_type": "markdown",
   "metadata": {},
   "source": [
    "We did the same test with other covariates (we don't show corresponding curves for a sake of space)"
   ]
  },
  {
   "cell_type": "code",
   "execution_count": 36,
   "metadata": {},
   "outputs": [
    {
     "data": {
      "text/plain": [
       "Call:\n",
       "survdiff(formula = Surv(LeadTime, IsCanceled) ~ DistributionChannel, \n",
       "    data = resortKMcov)\n",
       "\n",
       "                                  N Observed Expected (O-E)^2/E (O-E)^2/V\n",
       "DistributionChannel=Direct     7863     1325     1502    20.824    24.288\n",
       "DistributionChannel=Corporate  3269      688      699     0.171     0.189\n",
       "DistributionChannel=TA/TO     28925     9109     8921     3.953    20.298\n",
       "\n",
       " Chisq= 25.2  on 2 degrees of freedom, p= 3e-06 "
      ]
     },
     "metadata": {},
     "output_type": "display_data"
    }
   ],
   "source": [
    "# Test with \"DistributionChannel\" feature\n",
    "fit.logrank <- survdiff(Surv(LeadTime, IsCanceled) ~ DistributionChannel, data = resortKMcov)\n",
    "fit.logrank"
   ]
  },
  {
   "cell_type": "code",
   "execution_count": 37,
   "metadata": {},
   "outputs": [
    {
     "data": {
      "text/plain": [
       "Call:\n",
       "survdiff(formula = Surv(LeadTime, IsCanceled) ~ DepositType, \n",
       "    data = resortKMcov)\n",
       "\n",
       "                           N Observed Expected (O-E)^2/E (O-E)^2/V\n",
       "DepositType=No Deposit 38196     9450  10003.1      30.6     311.9\n",
       "DepositType=Non Refund  1719     1650   1050.8     341.7     387.6\n",
       "DepositType=Refundable   142       22     68.1      31.2      31.6\n",
       "\n",
       " Chisq= 414  on 2 degrees of freedom, p= <2e-16 "
      ]
     },
     "metadata": {},
     "output_type": "display_data"
    }
   ],
   "source": [
    "# Test with \"DepositType\" feature\n",
    "fit.logrank <- survdiff(Surv(LeadTime, IsCanceled) ~ DepositType, data = resortKMcov)\n",
    "fit.logrank"
   ]
  },
  {
   "cell_type": "markdown",
   "metadata": {},
   "source": [
    "> All the p-value are very small, that means we do NOT accept the null hypothesis, the effect of each group in *Babies*, *DistributionChannel* and *DepositType* on survival outcome is statistically significant. "
   ]
  },
  {
   "cell_type": "markdown",
   "metadata": {},
   "source": [
    "The effect of each group can also be confirmed by using proportional hazard technique (log(-log(survival)). We show right below the *cloglog* curves of *Babies* covariate for which the curves of each group are relatively paralelle, indicating a significant effect of these groups."
   ]
  },
  {
   "cell_type": "code",
   "execution_count": 39,
   "metadata": {
    "scrolled": true
   },
   "outputs": [
    {
     "data": {
      "image/png": "[encoded data removed]",
      "text/plain": [
       "plot without title"
      ]
     },
     "metadata": {
      "image/png": {
       "height": 300,
       "width": 300
      },
      "text/plain": {
       "height": 300,
       "width": 300
      }
     },
     "output_type": "display_data"
    }
   ],
   "source": [
    "PH <- survfit(Surv(LeadTime, IsCanceled) ~ Babies, data = resortKMcov)\n",
    "options(repr.plot.width=5, repr.plot.height=5)\n",
    "plot(PH, fun=\"cloglog\", col = c(1:3))"
   ]
  },
  {
   "cell_type": "markdown",
   "metadata": {},
   "source": [
    "We can think that the DepositType is more and less dependent on the fact that the booking involves or not the number (of groups) of Babies or DistributionChannel. The distribution of numbers of baby or type of distribution channel can bias the *DepositType* test above. In this situation, we can perfom a ``stratified logrank test`` to check the effect. For instance, we can check the case of **DepositType vs Babies**:"
   ]
  },
  {
   "cell_type": "code",
   "execution_count": 40,
   "metadata": {},
   "outputs": [
    {
     "data": {
      "text/plain": [
       "            Babies\n",
       "DepositType             0            1            2\n",
       "  No Deposit 0.9856529480 0.0141114253 0.0002356268\n",
       "  Non Refund 1.0000000000 0.0000000000 0.0000000000\n",
       "  Refundable 1.0000000000 0.0000000000 0.0000000000"
      ]
     },
     "metadata": {},
     "output_type": "display_data"
    }
   ],
   "source": [
    "with(resortKMcov, prop.table(table(DepositType, Babies), 1))"
   ]
  },
  {
   "cell_type": "markdown",
   "metadata": {},
   "source": [
    "> This table clearly shows a the distribution of the number of babies in each groups of *DepositType* is not homogenous. Let's do a stratifield *Babies* and do the test again : "
   ]
  },
  {
   "cell_type": "code",
   "execution_count": 42,
   "metadata": {},
   "outputs": [
    {
     "data": {
      "text/plain": [
       "Call:\n",
       "survdiff(formula = Surv(LeadTime, IsCanceled) ~ DepositType + \n",
       "    strata(Babies), data = resortKMcov)\n",
       "\n",
       "                           N Observed Expected (O-E)^2/E (O-E)^2/V\n",
       "DepositType=No Deposit 38196     9450   9999.1      30.2     306.8\n",
       "DepositType=Non Refund  1719     1650   1054.6     336.2     381.9\n",
       "DepositType=Refundable   142       22     68.4      31.4      31.8\n",
       "\n",
       " Chisq= 408  on 2 degrees of freedom, p= <2e-16 "
      ]
     },
     "metadata": {},
     "output_type": "display_data"
    },
    {
     "data": {
      "image/png": "[encoded data removed]",
      "text/plain": [
       "plot without title"
      ]
     },
     "metadata": {
      "image/png": {
       "height": 240,
       "width": 300
      },
      "text/plain": {
       "height": 240,
       "width": 300
      }
     },
     "output_type": "display_data"
    }
   ],
   "source": [
    "# stratafied logrank\n",
    "fit.logrank <- survdiff(Surv(LeadTime, IsCanceled) ~ DepositType + strata(Babies) , data = resortKMcov)\n",
    "fit.logrank\n",
    "options(repr.plot.width=5, repr.plot.height=4)\n",
    "ggsurvplot(survfit(Surv(LeadTime, IsCanceled) ~ DepositType + strata(Babies), data = resortKMcov), pval = TRUE, \n",
    "           risk.table = FALSE, ylab = \"Survivale probability\", xlab = \"LeadTime (in months)\", conf.int = TRUE,\n",
    "           ggtheme = theme())"
   ]
  },
  {
   "cell_type": "markdown",
   "metadata": {},
   "source": [
    "> It is shown that the p-value is still very small, that means the the impact of *DepositType* on the outcome is not biased  by the distribution of each group in *Babies*"
   ]
  },
  {
   "cell_type": "markdown",
   "metadata": {},
   "source": [
    "### b. Cox Proportional Hazard (coxph) : semi-parametric model\n",
    "**To step further in survival analysis : we investigate our dataset by using Cox proportional Hazard (coxph) model. <br>\n",
    "We will highlight the following points :**\n",
    "   - Deal with mutil-covariates\n",
    "   - Estimation with continuous covariates\n",
    "   - Hazard risk ratio ($exp(\\beta$)) associated with a covariate : key to assess the fluctuations of a covariate on the survival outcome \n",
    "   - Regression prediction \n",
    "\n",
    " "
   ]
  },
  {
   "cell_type": "markdown",
   "metadata": {},
   "source": [
    "We start by using coxph() for a single covariate, for instance, *DepositType*"
   ]
  },
  {
   "cell_type": "code",
   "execution_count": 43,
   "metadata": {
    "scrolled": true
   },
   "outputs": [
    {
     "data": {
      "text/plain": [
       "Call:\n",
       "coxph(formula = Surv(LeadTime, IsCanceled) ~ DepositType, data = resortKMcov)\n",
       "\n",
       "  n= 40057, number of events= 11122 \n",
       "\n",
       "                          coef exp(coef) se(coef)      z Pr(>|z|)    \n",
       "DepositTypeNon Refund  0.52667   1.69328  0.02694 19.546  < 2e-16 ***\n",
       "DepositTypeRefundable -1.07297   0.34199  0.21348 -5.026 5.01e-07 ***\n",
       "---\n",
       "Signif. codes:  0 '***' 0.001 '**' 0.01 '*' 0.05 '.' 0.1 ' ' 1\n",
       "\n",
       "                      exp(coef) exp(-coef) lower .95 upper .95\n",
       "DepositTypeNon Refund     1.693     0.5906    1.6062    1.7851\n",
       "DepositTypeRefundable     0.342     2.9241    0.2251    0.5197\n",
       "\n",
       "Concordance= 0.51  (se = 0.001 )\n",
       "Likelihood ratio test= 381.5  on 2 df,   p=<2e-16\n",
       "Wald test            = 411.2  on 2 df,   p=<2e-16\n",
       "Score (logrank) test = 423.9  on 2 df,   p=<2e-16\n"
      ]
     },
     "metadata": {},
     "output_type": "display_data"
    }
   ],
   "source": [
    "fit.coxph_singleCov <- coxph(Surv(LeadTime, IsCanceled) ~ DepositType, data = resortKMcov)\n",
    "summary(fit.coxph_singleCov)"
   ]
  },
  {
   "cell_type": "markdown",
   "metadata": {},
   "source": [
    "> - All p-values are much less than 0.05 : very highly significant effect between the groups of the feature _DepositType_\n",
    "> - DepositType feature has 3 groups (*No Deposit, Non Refund, Refundable*) and coxph extimation takes _No Deposit_ as reference (in the framework of \"treatment contrasts\" by R).\n",
    "> - For _Non Refund_ group : the coefficient $\\beta$  is positive, meaning that the (cancellation) risk of _Non Refund_ is higher than _No depostit_. There is about 69.3% higher risk (of cancellation) in _Non Refund_ group higher than in  _No Deposit_ group. The confidence interval here is  [60.6% - 78.5%]. \n",
    "> - For _Refundable_ type : the coefficient $\\beta$  is negative, meaning that the hazard risk of cancellation in _Refundable_ group is 65.8% higher than the risk in _No Deposit_. The confidence interval here is  [48.0% - 77.5%].\n"
   ]
  },
  {
   "cell_type": "markdown",
   "metadata": {},
   "source": [
    "**Cox model with multi-covariates** <br>\n",
    "In the following, we will do some transformation of several categorial covariates to simplify the reading and interpretation of the results :  we group each features into two groups. "
   ]
  },
  {
   "cell_type": "code",
   "execution_count": 46,
   "metadata": {},
   "outputs": [],
   "source": [
    "resortCoxph <- resort %>%\n",
    "            mutate(DistributionChannel = factor(ifelse(DistributionChannel==\"Direct\", \"Direct\", \"Mediator\"), \n",
    "                                        levels = c(\"Direct\", \"Mediator\")),                                                 \n",
    "                   Babies = factor(ifelse(Babies==0,\"No\", \"Yes\"), levels = c(\"No\", \"Yes\")),\n",
    "                   DepositType = factor(ifelse(DepositType==\"Non Refund\", \"Non Refund\", \"Refund\"),\n",
    "                                        levels = c(\"Non Refund\", \"Refund\")),\n",
    "                   ArrivalDateMonth = factor(ifelse(ArrivalDateMonth == c(\"June\", \"July\", \"August\", \"September\"),\n",
    "                                                     \"Summer\", \"Other Season\"), \n",
    "                                         level = c(\"Summer\", \"Other Season\")))"
   ]
  },
  {
   "cell_type": "code",
   "execution_count": 47,
   "metadata": {
    "scrolled": false
   },
   "outputs": [
    {
     "data": {
      "text/plain": [
       "Call:\n",
       "coxph(formula = Surv(LeadTime, IsCanceled) ~ DepositType + ArrivalDateMonth, \n",
       "    data = resortCoxph)\n",
       "\n",
       "  n= 40057, number of events= 11122 \n",
       "\n",
       "                                 coef exp(coef) se(coef)       z Pr(>|z|)    \n",
       "DepositTypeRefund            -0.52560   0.59120  0.02696 -19.493  < 2e-16 ***\n",
       "ArrivalDateMonthOther Season  0.14167   1.15220  0.03002   4.719 2.37e-06 ***\n",
       "---\n",
       "Signif. codes:  0 '***' 0.001 '**' 0.01 '*' 0.05 '.' 0.1 ' ' 1\n",
       "\n",
       "                             exp(coef) exp(-coef) lower .95 upper .95\n",
       "DepositTypeRefund               0.5912     1.6915    0.5608    0.6233\n",
       "ArrivalDateMonthOther Season    1.1522     0.8679    1.0864    1.2220\n",
       "\n",
       "Concordance= 0.519  (se = 0.002 )\n",
       "Likelihood ratio test= 367.3  on 2 df,   p=<2e-16\n",
       "Wald test            = 410.7  on 2 df,   p=<2e-16\n",
       "Score (logrank) test = 419.7  on 2 df,   p=<2e-16\n"
      ]
     },
     "metadata": {},
     "output_type": "display_data"
    }
   ],
   "source": [
    "# Model composed of two categorial covariates : DepositType + ArrivalDateMonth\n",
    "fit.coxph_1 <- coxph(Surv(LeadTime, IsCanceled) ~ DepositType + ArrivalDateMonth, \n",
    "                   data = resortCoxph)\n",
    "summary(fit.coxph_1)"
   ]
  },
  {
   "cell_type": "markdown",
   "metadata": {},
   "source": [
    "> - All p-values of the test are << 0.05. Statistically, there is a large significant effect between groups of the features on the outcome. \n",
    "> - For *DepositType* : *Refund* group has a negative impact, the hazard risk in *No Refund* is higher than *Non Refund* group, the hazard risk in *Refund* is 40.9% less than the one in *Non refund* with a confidence interval= [37.7% - 44.0%] and a small standard error.\n",
    "> - For *ArrivalDateMonth* : the effect is positive, the hazard risk in *Summer* is 15.2% higher than in *Other Season* with a confidence interval [8.6% - 22.2%] and a small standard error."
   ]
  },
  {
   "cell_type": "code",
   "execution_count": 48,
   "metadata": {},
   "outputs": [
    {
     "data": {
      "text/plain": [
       "Call:\n",
       "coxph(formula = Surv(LeadTime, IsCanceled) ~ ADR + totalNights + \n",
       "    Adults + havingKids, data = resortCoxph)\n",
       "\n",
       "  n= 40057, number of events= 11122 \n",
       "\n",
       "                  coef  exp(coef)   se(coef)       z Pr(>|z|)    \n",
       "ADR          0.0035803  1.0035868  0.0001723  20.776  < 2e-16 ***\n",
       "totalNights -0.1155091  0.8909125  0.0035441 -32.592  < 2e-16 ***\n",
       "Adults      -0.0290552  0.9713628  0.0128073  -2.269   0.0233 *  \n",
       "havingKids   0.1005614  1.1057915  0.0200992   5.003 5.64e-07 ***\n",
       "---\n",
       "Signif. codes:  0 '***' 0.001 '**' 0.01 '*' 0.05 '.' 0.1 ' ' 1\n",
       "\n",
       "            exp(coef) exp(-coef) lower .95 upper .95\n",
       "ADR            1.0036     0.9964    1.0032    1.0039\n",
       "totalNights    0.8909     1.1224    0.8847    0.8971\n",
       "Adults         0.9714     1.0295    0.9473    0.9961\n",
       "havingKids     1.1058     0.9043    1.0631    1.1502\n",
       "\n",
       "Concordance= 0.654  (se = 0.003 )\n",
       "Likelihood ratio test= 1692  on 4 df,   p=<2e-16\n",
       "Wald test            = 1569  on 4 df,   p=<2e-16\n",
       "Score (logrank) test = 1491  on 4 df,   p=<2e-16\n"
      ]
     },
     "metadata": {},
     "output_type": "display_data"
    }
   ],
   "source": [
    "# Model composed of continuous covariates : \n",
    "fit.coxph_2 <- coxph(Surv(LeadTime, IsCanceled) ~ ADR + totalNights + Adults + havingKids,data = resortCoxph)\n",
    "summary(fit.coxph_2)"
   ]
  },
  {
   "cell_type": "markdown",
   "metadata": {},
   "source": [
    "> - All p-values are  smaller than 0.05: the risk hazard effects of these features are statistically quite significant, except for *Adults* which is very  little significant due to its p-value close to 0.05 and large standard error of $\\beta$.\n",
    "> - For *totalNights* feature : the hazard effect is negative, meaning that the hazard risk of cancellation is lowered (by 11%) when a customer has one more booking night. Same interpretation for *Adults* feature : the effect is only 3% which is negligible. We checked this coefficient by likelihood ratio test (2 models with and without *Adults*) and the test gives a p-value = 0.008. In bref, the effect of *Adults* is there but not quite pronounced.  \n",
    "> - For *havingKids* feature : the hazard risk coefficient is positive, meaning that the hazard risk of cancellation gets higher (increase by 10.5%) when a customer has one more kid. Same interpretation for the price *ADR* (in unit of 1 dollar)"
   ]
  },
  {
   "cell_type": "code",
   "execution_count": 49,
   "metadata": {
    "scrolled": true
   },
   "outputs": [
    {
     "data": {
      "text/plain": [
       "Call:\n",
       "coxph(formula = Surv(LeadTime, IsCanceled) ~ DepositType + ADR + \n",
       "    DistributionChannel + ArrivalDateMonth + StaysInWeekendNights + \n",
       "    totalNights + Adults + havingKids + Babies, data = resortCoxph)\n",
       "\n",
       "  n= 40057, number of events= 11122 \n",
       "\n",
       "                                   coef  exp(coef)   se(coef)       z Pr(>|z|)\n",
       "DepositTypeRefund            -0.5138926  0.5981627  0.0281201 -18.275  < 2e-16\n",
       "ADR                           0.0042437  1.0042527  0.0001781  23.825  < 2e-16\n",
       "DistributionChannelMediator   0.1868295  1.2054217  0.0295534   6.322 2.59e-10\n",
       "ArrivalDateMonthOther Season  0.2102507  1.2339873  0.0305786   6.876 6.17e-12\n",
       "StaysInWeekendNights          0.1223874  1.1301918  0.0158289   7.732 1.06e-14\n",
       "totalNights                  -0.1428214  0.8669089  0.0060077 -23.773  < 2e-16\n",
       "Adults                       -0.0290947  0.9713244  0.0139250  -2.089   0.0367\n",
       "havingKids                    0.1256188  1.1338499  0.0205449   6.114 9.69e-10\n",
       "BabiesYes                    -0.4516461  0.6365794  0.1009477  -4.474 7.67e-06\n",
       "                                \n",
       "DepositTypeRefund            ***\n",
       "ADR                          ***\n",
       "DistributionChannelMediator  ***\n",
       "ArrivalDateMonthOther Season ***\n",
       "StaysInWeekendNights         ***\n",
       "totalNights                  ***\n",
       "Adults                       *  \n",
       "havingKids                   ***\n",
       "BabiesYes                    ***\n",
       "---\n",
       "Signif. codes:  0 '***' 0.001 '**' 0.01 '*' 0.05 '.' 0.1 ' ' 1\n",
       "\n",
       "                             exp(coef) exp(-coef) lower .95 upper .95\n",
       "DepositTypeRefund               0.5982     1.6718    0.5661    0.6321\n",
       "ADR                             1.0043     0.9958    1.0039    1.0046\n",
       "DistributionChannelMediator     1.2054     0.8296    1.1376    1.2773\n",
       "ArrivalDateMonthOther Season    1.2340     0.8104    1.1622    1.3102\n",
       "StaysInWeekendNights            1.1302     0.8848    1.0957    1.1658\n",
       "totalNights                     0.8669     1.1535    0.8568    0.8772\n",
       "Adults                          0.9713     1.0295    0.9452    0.9982\n",
       "havingKids                      1.1338     0.8820    1.0891    1.1804\n",
       "BabiesYes                       0.6366     1.5709    0.5223    0.7759\n",
       "\n",
       "Concordance= 0.649  (se = 0.003 )\n",
       "Likelihood ratio test= 2201  on 9 df,   p=<2e-16\n",
       "Wald test            = 2136  on 9 df,   p=<2e-16\n",
       "Score (logrank) test = 2098  on 9 df,   p=<2e-16\n"
      ]
     },
     "metadata": {},
     "output_type": "display_data"
    }
   ],
   "source": [
    "# Put all features together in a model\n",
    "fit.full_model <- coxph(Surv(LeadTime, IsCanceled) ~ DepositType + ADR + DistributionChannel + ArrivalDateMonth +\n",
    "                        StaysInWeekendNights + totalNights + Adults + havingKids + Babies , data = resortCoxph) \n",
    "summary(fit.full_model)"
   ]
  },
  {
   "cell_type": "markdown",
   "metadata": {},
   "source": [
    "> All p-values are smaller than 0.05 (also small standard errors), *i. e.* the hazard effect of these features is significant. However, we notice that the feature *Adults* becomes less significant than the previous model (p-value = 0.037 vs 0.023) "
   ]
  },
  {
   "cell_type": "markdown",
   "metadata": {},
   "source": [
    "### c. Selection model\n",
    "\n",
    "**Step-wise model selection:**\n",
    "\n",
    "We use this backward technique based on AIC value on the fit.full_model that was built above to select our final model \n"
   ]
  },
  {
   "cell_type": "code",
   "execution_count": 50,
   "metadata": {},
   "outputs": [
    {
     "name": "stdout",
     "output_type": "stream",
     "text": [
      "Start:  AIC=203766.5\n",
      "Surv(LeadTime, IsCanceled) ~ DepositType + ADR + DistributionChannel + \n",
      "    ArrivalDateMonth + StaysInWeekendNights + totalNights + Adults + \n",
      "    havingKids + Babies\n",
      "\n",
      "                       Df    AIC\n",
      "<none>                    203767\n",
      "- Adults                1 203770\n",
      "- Babies                1 203788\n",
      "- havingKids            1 203801\n",
      "- DistributionChannel   1 203806\n",
      "- ArrivalDateMonth      1 203814\n",
      "- StaysInWeekendNights  1 203824\n",
      "- DepositType           1 204067\n",
      "- ADR                   1 204296\n",
      "- totalNights           1 204325\n"
     ]
    }
   ],
   "source": [
    "AIC_stepwise <- step(fit.full_model)"
   ]
  },
  {
   "cell_type": "markdown",
   "metadata": {},
   "source": [
    "> The \"best\" model according to this technique is the starting model (fit.full_model), which posseses a lowest AIC value. This confirms the feasibility of our feature selection strategy at the beginning of the analysis. \n"
   ]
  },
  {
   "cell_type": "markdown",
   "metadata": {},
   "source": [
    "## 3. Prediction"
   ]
  },
  {
   "cell_type": "markdown",
   "metadata": {},
   "source": [
    "#### Split data into test and train\n",
    "\n",
    "We split 80% data of *Resort* dataset with randomness into a training set and 20% for a test set  "
   ]
  },
  {
   "cell_type": "code",
   "execution_count": 51,
   "metadata": {},
   "outputs": [
    {
     "data": {
      "text/html": [
       "<style>\n",
       ".list-inline {list-style: none; margin:0; padding: 0}\n",
       ".list-inline>li {display: inline-block}\n",
       ".list-inline>li:not(:last-child)::after {content: \"\\00b7\"; padding: 0 .5ex}\n",
       "</style>\n",
       "<ol class=list-inline><li>40057</li><li>14</li><li>32045</li><li>14</li><li>8012</li><li>14</li></ol>\n"
      ],
      "text/latex": [
       "\\begin{enumerate*}\n",
       "\\item 40057\n",
       "\\item 14\n",
       "\\item 32045\n",
       "\\item 14\n",
       "\\item 8012\n",
       "\\item 14\n",
       "\\end{enumerate*}\n"
      ],
      "text/markdown": [
       "1. 40057\n",
       "2. 14\n",
       "3. 32045\n",
       "4. 14\n",
       "5. 8012\n",
       "6. 14\n",
       "\n",
       "\n"
      ],
      "text/plain": [
       "[1] 40057    14 32045    14  8012    14"
      ]
     },
     "metadata": {},
     "output_type": "display_data"
    }
   ],
   "source": [
    "set.seed(24)\n",
    "len_resort = dim(resortCoxph)[1]\n",
    "# index of 80% rows of the dataset \n",
    "index = sample(seq_len(nrow(resortCoxph)), size = len_resort*0.8)\n",
    "resort_train = resortCoxph[index,]\n",
    "resort_test = resortCoxph[-index,]\n",
    "c(dim(resortCoxph),dim(resort_train), dim(resort_test))"
   ]
  },
  {
   "cell_type": "markdown",
   "metadata": {},
   "source": [
    "#### Predictions using the best model (*fit.full_model*)\n",
    "\n",
    "We used the training set to reestimate the coefficients and use them to predict"
   ]
  },
  {
   "cell_type": "code",
   "execution_count": 52,
   "metadata": {},
   "outputs": [
    {
     "name": "stdout",
     "output_type": "stream",
     "text": [
      "[1] \"The individual booking we want to predict has the following characteristics :\"\n"
     ]
    },
    {
     "data": {
      "text/html": [
       "<table>\n",
       "<caption>A tibble: 1 × 14</caption>\n",
       "<thead>\n",
       "\t<tr><th scope=col>IsCanceled</th><th scope=col>LeadTime</th><th scope=col>ArrivalDateMonth</th><th scope=col>StaysInWeekendNights</th><th scope=col>StaysInWeekNights</th><th scope=col>Adults</th><th scope=col>Children</th><th scope=col>Babies</th><th scope=col>ADR</th><th scope=col>DistributionChannel</th><th scope=col>DepositType</th><th scope=col>BookToCancel</th><th scope=col>havingKids</th><th scope=col>totalNights</th></tr>\n",
       "\t<tr><th scope=col>&lt;int&gt;</th><th scope=col>&lt;dbl&gt;</th><th scope=col>&lt;fct&gt;</th><th scope=col>&lt;dbl&gt;</th><th scope=col>&lt;dbl&gt;</th><th scope=col>&lt;int&gt;</th><th scope=col>&lt;int&gt;</th><th scope=col>&lt;fct&gt;</th><th scope=col>&lt;int&gt;</th><th scope=col>&lt;fct&gt;</th><th scope=col>&lt;fct&gt;</th><th scope=col>&lt;dbl&gt;</th><th scope=col>&lt;int&gt;</th><th scope=col>&lt;dbl&gt;</th></tr>\n",
       "</thead>\n",
       "<tbody>\n",
       "\t<tr><td>0</td><td>0.2295082</td><td>Summer</td><td>0</td><td>1</td><td>1</td><td>0</td><td>No</td><td>75</td><td>Direct</td><td>Refund</td><td>8</td><td>0</td><td>1</td></tr>\n",
       "</tbody>\n",
       "</table>\n"
      ],
      "text/latex": [
       "A tibble: 1 × 14\n",
       "\\begin{tabular}{llllllllllllll}\n",
       " IsCanceled & LeadTime & ArrivalDateMonth & StaysInWeekendNights & StaysInWeekNights & Adults & Children & Babies & ADR & DistributionChannel & DepositType & BookToCancel & havingKids & totalNights\\\\\n",
       " <int> & <dbl> & <fct> & <dbl> & <dbl> & <int> & <int> & <fct> & <int> & <fct> & <fct> & <dbl> & <int> & <dbl>\\\\\n",
       "\\hline\n",
       "\t 0 & 0.2295082 & Summer & 0 & 1 & 1 & 0 & No & 75 & Direct & Refund & 8 & 0 & 1\\\\\n",
       "\\end{tabular}\n"
      ],
      "text/markdown": [
       "\n",
       "A tibble: 1 × 14\n",
       "\n",
       "| IsCanceled &lt;int&gt; | LeadTime &lt;dbl&gt; | ArrivalDateMonth &lt;fct&gt; | StaysInWeekendNights &lt;dbl&gt; | StaysInWeekNights &lt;dbl&gt; | Adults &lt;int&gt; | Children &lt;int&gt; | Babies &lt;fct&gt; | ADR &lt;int&gt; | DistributionChannel &lt;fct&gt; | DepositType &lt;fct&gt; | BookToCancel &lt;dbl&gt; | havingKids &lt;int&gt; | totalNights &lt;dbl&gt; |\n",
       "|---|---|---|---|---|---|---|---|---|---|---|---|---|---|\n",
       "| 0 | 0.2295082 | Summer | 0 | 1 | 1 | 0 | No | 75 | Direct | Refund | 8 | 0 | 1 |\n",
       "\n"
      ],
      "text/plain": [
       "  IsCanceled LeadTime  ArrivalDateMonth StaysInWeekendNights StaysInWeekNights\n",
       "1 0          0.2295082 Summer           0                    1                \n",
       "  Adults Children Babies ADR DistributionChannel DepositType BookToCancel\n",
       "1 1      0        No     75  Direct              Refund      8           \n",
       "  havingKids totalNights\n",
       "1 0          1          "
      ]
     },
     "metadata": {},
     "output_type": "display_data"
    }
   ],
   "source": [
    "trained_best_model <- coxph(Surv(LeadTime, IsCanceled) ~ DepositType + ADR + DistributionChannel + ArrivalDateMonth +\n",
    "                        StaysInWeekendNights + totalNights + Adults + havingKids + Babies , data = resort_train)\n",
    "# make prediction for the first individual of the test set\n",
    "print('The individual booking we want to predict has the following characteristics :')\n",
    "resort_test[1,]\n",
    "predictions <- survfit(trained_best_model, newdata = resort_test[1,], type = \"aalen\")"
   ]
  },
  {
   "cell_type": "markdown",
   "metadata": {},
   "source": [
    "The observation of this booking is a \"not cancelled\" booking with a time of booking = 8 days. \n",
    "\n",
    "Here is the prediction  from the trained_model on its booking status of this booking:"
   ]
  },
  {
   "cell_type": "code",
   "execution_count": 53,
   "metadata": {},
   "outputs": [
    {
     "data": {
      "text/plain": [
       "Call: survfit(formula = trained_best_model, newdata = resort_test[1, \n",
       "    ], type = \"aalen\")\n",
       "\n",
       "  time n.risk n.event survival  std.err lower 95% CI upper 95% CI\n",
       " 0.229  25347     421    0.988 0.000798        0.987         0.99"
      ]
     },
     "metadata": {},
     "output_type": "display_data"
    }
   ],
   "source": [
    "summary(predictions, time = 0.229)"
   ]
  },
  {
   "cell_type": "markdown",
   "metadata": {},
   "source": [
    "> A cancellation risk of this booking predicted by the model is about 1.2% (with a negligible standard error and a very small confidence interval = [1.0% - 1.3%]), which is much close to the IsCanceled value = 0. For a binary classification with a predefined threshold in general = 50%, the modela predicts that the booking will be not cancelled. That's a correct prediction !"
   ]
  },
  {
   "cell_type": "markdown",
   "metadata": {},
   "source": [
    "#### ROC-AUC evaluation of the model: \n",
    "\n",
    "in order to assess fully the model on the test set, we employ the ROC approach. For a purpose of comparison, we will define a *trained_coxph* model (computed from *totalNights + ArrivalDateMonth*) to compare with the best_model. These two models trained with *resort_train* dataset."
   ]
  },
  {
   "cell_type": "code",
   "execution_count": 54,
   "metadata": {},
   "outputs": [],
   "source": [
    "# Define trained_coxph and predict with this model\n",
    "trained_coxph <- coxph(Surv(LeadTime, IsCanceled) ~ totalNights + ArrivalDateMonth,data = resort_train)\n",
    "pred_test_coxph <- mutate(resort_test,lp = predict(trained_coxph, newdata = resort_test, type = \"lp\"))"
   ]
  },
  {
   "cell_type": "code",
   "execution_count": 55,
   "metadata": {},
   "outputs": [],
   "source": [
    "# Predict with the trained best model\n",
    "pred_test_best_model <- mutate(resort_test,lp = predict(trained_best_model, newdata = resort_test, type = \"lp\"))"
   ]
  },
  {
   "cell_type": "code",
   "execution_count": 57,
   "metadata": {},
   "outputs": [],
   "source": [
    "# Estimate the ROC of each model\n",
    "ROC.coxph <- survivalROC(Stime =  pred_test_coxph$LeadTime, status = pred_test_coxph$IsCanceled,\n",
    "                           marker = pred_test_coxph$lp, predict.time = 60/30.5, method=\"KM\")\n",
    "ROC.best_model <- survivalROC(Stime =  pred_test_best_model$LeadTime,status = pred_test_best_model$IsCanceled,\n",
    "                           marker = pred_test_best_model$lp, predict.time = 60/30.5,method=\"KM\")\n",
    "ROC <- list(coxph = ROC.coxph, best_model = ROC.best_model)"
   ]
  },
  {
   "cell_type": "code",
   "execution_count": 60,
   "metadata": {},
   "outputs": [
    {
     "data": {
      "image/png": "[encoded data removed]",
      "text/plain": [
       "plot without title"
      ]
     },
     "metadata": {
      "image/png": {
       "height": 180,
       "width": 360
      },
      "text/plain": {
       "height": 180,
       "width": 360
      }
     },
     "output_type": "display_data"
    }
   ],
   "source": [
    "# Plot the ROC curves\n",
    "dfl <- map(ROC, ~ with(., tibble(cutoff = cut.values, FP, TP)))\n",
    "for(nm in names(dfl)) {dfl[[ nm ]]$marker <- nm}\n",
    "dat <- do.call(rbind, dfl)\n",
    "options(repr.plot.width=6, repr.plot.height=3)\n",
    "ggplot(dat, aes(FP, TP, color = marker)) +\n",
    "  geom_line() + theme_bw(base_size = 9)"
   ]
  },
  {
   "cell_type": "code",
   "execution_count": 61,
   "metadata": {},
   "outputs": [
    {
     "data": {
      "text/html": [
       "<style>\n",
       ".dl-inline {width: auto; margin:0; padding: 0}\n",
       ".dl-inline>dt, .dl-inline>dd {float: none; width: auto; display: inline-block}\n",
       ".dl-inline>dt::after {content: \":\\0020\"; padding-right: .5ex}\n",
       ".dl-inline>dt:not(:first-of-type) {padding-left: .5ex}\n",
       "</style><dl class=dl-inline><dt>coxph</dt><dd>0.755412363334938</dd><dt>best_model</dt><dd>0.697076498464908</dd></dl>\n"
      ],
      "text/latex": [
       "\\begin{description*}\n",
       "\\item[coxph] 0.755412363334938\n",
       "\\item[best\\textbackslash{}\\_model] 0.697076498464908\n",
       "\\end{description*}\n"
      ],
      "text/markdown": [
       "coxph\n",
       ":   0.755412363334938best_model\n",
       ":   0.697076498464908\n",
       "\n"
      ],
      "text/plain": [
       "     coxph best_model \n",
       " 0.7554124  0.6970765 "
      ]
     },
     "metadata": {},
     "output_type": "display_data"
    }
   ],
   "source": [
    "# What are the AUC values ?\n",
    "map_dbl(ROC, \"AUC\")"
   ]
  },
  {
   "cell_type": "markdown",
   "metadata": {},
   "source": [
    "> It clearly turns out that the best model performs predictions much better than the coxph_1 model with only 2 features over the test data. "
   ]
  },
  {
   "cell_type": "markdown",
   "metadata": {},
   "source": [
    "\n",
    "## Conclusion of part I : \n",
    "\n",
    "We performed survival analysis on the resort booking. \n",
    "- We have shown the survival curves of the booking : larger a booking period, higher a booking cancellation probability is.\n",
    "- All features we proposed for Cox regression were justified by non-parametric survival approaches (Kapler-Meier, logrank test) and semi-parametric hazard appoach (CoxPH)\n",
    "- The final model for predictions selected is the model which contains all the features we discussed. The results are tested with the same dataset. The AUC ratio = 0.755 we obtained for this model is quite relevant for this kind of dataset. \n",
    "- Perspective : we can improve the predictions by investigating the model diagnostics. For example, we may estimates *Martingale residuals* (see *Annexe*) to figure out if there are extra correlations of the features with the outcome. We may also use *case deletion residuals* (see *Annexe*) to explore \"exceptional data\" that we can remove to improve the performance of the model."
   ]
  },
  {
   "cell_type": "markdown",
   "metadata": {},
   "source": [
    "# Part II : Dataset CityHotel Booking (H2)"
   ]
  },
  {
   "cell_type": "markdown",
   "metadata": {},
   "source": [
    "*The analysis of this dataset is similar to the previous one. Only the model selection and prediction are shown below.*\n",
    "\n",
    "**Step-wise model selection:**"
   ]
  },
  {
   "cell_type": "code",
   "execution_count": 95,
   "metadata": {
    "scrolled": true
   },
   "outputs": [
    {
     "name": "stdout",
     "output_type": "stream",
     "text": [
      "Start:  AIC=651203.7\n",
      "Surv(LeadTime, IsCanceled) ~ DepositType + ADR + DistributionChannel + \n",
      "    ArrivalDateMonth + StaysInWeekendNights + totalNights + Adults + \n",
      "    havingKids + Babies\n",
      "\n",
      "                       Df    AIC\n",
      "- Babies                1 651203\n",
      "<none>                    651204\n",
      "- DistributionChannel   1 651222\n",
      "- StaysInWeekendNights  1 651229\n",
      "- havingKids            1 651246\n",
      "- totalNights           1 651248\n",
      "- Adults                1 651367\n",
      "- ArrivalDateMonth      1 651409\n",
      "- DepositType           1 651415\n",
      "- ADR                   1 651687\n",
      "\n",
      "Step:  AIC=651203.3\n",
      "Surv(LeadTime, IsCanceled) ~ DepositType + ADR + DistributionChannel + \n",
      "    ArrivalDateMonth + StaysInWeekendNights + totalNights + Adults + \n",
      "    havingKids\n",
      "\n",
      "                       Df    AIC\n",
      "<none>                    651203\n",
      "- DistributionChannel   1 651221\n",
      "- StaysInWeekendNights  1 651229\n",
      "- havingKids            1 651244\n",
      "- totalNights           1 651248\n",
      "- Adults                1 651368\n",
      "- ArrivalDateMonth      1 651409\n",
      "- DepositType           1 651415\n",
      "- ADR                   1 651688\n"
     ]
    }
   ],
   "source": [
    "AIC_stepwise <- step(fit.full_model)"
   ]
  },
  {
   "cell_type": "markdown",
   "metadata": {},
   "source": [
    "> The stepwise technique confirms the unsignificant effect of *Babies* feature in the model. Thus, the \"best\" model does NOT include this feature."
   ]
  },
  {
   "cell_type": "markdown",
   "metadata": {},
   "source": [
    "\n",
    "#### Split data into test and train\n",
    "\n",
    "We split without randomness"
   ]
  },
  {
   "cell_type": "code",
   "execution_count": 115,
   "metadata": {},
   "outputs": [],
   "source": [
    "len_hotel = dim(hotelCoxph)[1]\n",
    "hotel_train = head(hotelCoxph, len_hotel*0.8)\n",
    "hotel_test = tail(hotelCoxph,len_hotel*0.2)"
   ]
  },
  {
   "cell_type": "markdown",
   "metadata": {},
   "source": [
    "#### Prediction and evaluation of the best model: \n",
    "As part I, we build here a hotel_trained_coxph model for comparison with the trained_best_model"
   ]
  },
  {
   "cell_type": "code",
   "execution_count": 116,
   "metadata": {},
   "outputs": [],
   "source": [
    "hotel_trained_best_model <- coxph(Surv(LeadTime, IsCanceled) ~ DepositType + ADR + DistributionChannel + \n",
    "    ArrivalDateMonth + StaysInWeekendNights + totalNights + Adults + havingKids, data = hotel_train)\n",
    "hotel_pred_test_best_model <- mutate(hotel_test,lp= predict(hotel_trained_best_model, newdata = hotel_test, \n",
    "                                                            type = \"lp\"))\n",
    "# Define hotel_trained_coxph and predict with this model\n",
    "hotel_trained_coxph <- coxph(Surv(LeadTime, IsCanceled) ~ DepositType + ADR + DistributionChannel+ \n",
    "                             totalNights + ArrivalDateMonth, data = hotel_train)\n",
    "hotel_pred_test_coxph <- mutate(hotel_test,lp = predict(hotel_trained_coxph, \n",
    "                                                        newdata = hotel_test, type = \"lp\"))"
   ]
  },
  {
   "cell_type": "code",
   "execution_count": 117,
   "metadata": {},
   "outputs": [],
   "source": [
    "# Estimate the ROC of each model\n",
    "ROC.hotel_coxph <- survivalROC(Stime =  hotel_pred_test_coxph$LeadTime, status = hotel_pred_test_coxph$IsCanceled,\n",
    "                           marker = hotel_pred_test_coxph$lp, predict.time = 60/30.5,method=\"KM\")\n",
    "ROC.hotel_best_model <- survivalROC(Stime =  hotel_pred_test_best_model$LeadTime, status = hotel_pred_test_best_model$IsCanceled,\n",
    "                           marker = hotel_pred_test_best_model$lp,predict.time = 60/30.5, method=\"KM\")"
   ]
  },
  {
   "cell_type": "code",
   "execution_count": 118,
   "metadata": {},
   "outputs": [
    {
     "data": {
      "image/png": "[encoded data removed]",
      "text/plain": [
       "plot without title"
      ]
     },
     "metadata": {
      "image/png": {
       "height": 180,
       "width": 360
      },
      "text/plain": {
       "height": 180,
       "width": 360
      }
     },
     "output_type": "display_data"
    }
   ],
   "source": [
    "# Plot the ROC curves\n",
    "ROC <- list(coxph = ROC.hotel_coxph, best_model = ROC.hotel_best_model)\n",
    "dfl <- map(ROC, ~ with(., tibble(cutoff = cut.values, FP, TP)))\n",
    "for(nm in names(dfl)) {\n",
    "  dfl[[ nm ]]$marker <- nm}\n",
    "dat <- do.call(rbind, dfl)\n",
    "options(repr.plot.width=6, repr.plot.height=3)\n",
    "ggplot(dat, aes(FP, TP, color = marker)) +\n",
    "  geom_line()"
   ]
  },
  {
   "cell_type": "code",
   "execution_count": 119,
   "metadata": {},
   "outputs": [
    {
     "data": {
      "text/html": [
       "<style>\n",
       ".dl-inline {width: auto; margin:0; padding: 0}\n",
       ".dl-inline>dt, .dl-inline>dd {float: none; width: auto; display: inline-block}\n",
       ".dl-inline>dt::after {content: \":\\0020\"; padding-right: .5ex}\n",
       ".dl-inline>dt:not(:first-of-type) {padding-left: .5ex}\n",
       "</style><dl class=dl-inline><dt>coxph</dt><dd>0.508207160044035</dd><dt>best_model</dt><dd>0.715411393984758</dd></dl>\n"
      ],
      "text/latex": [
       "\\begin{description*}\n",
       "\\item[coxph] 0.508207160044035\n",
       "\\item[best\\textbackslash{}\\_model] 0.715411393984758\n",
       "\\end{description*}\n"
      ],
      "text/markdown": [
       "coxph\n",
       ":   0.508207160044035best_model\n",
       ":   0.715411393984758\n",
       "\n"
      ],
      "text/plain": [
       "     coxph best_model \n",
       " 0.5082072  0.7154114 "
      ]
     },
     "metadata": {},
     "output_type": "display_data"
    }
   ],
   "source": [
    "# What are the AUC values ?\n",
    "map_dbl(ROC, \"AUC\")"
   ]
  },
  {
   "cell_type": "markdown",
   "metadata": {},
   "source": [
    "## Conclusion part II"
   ]
  },
  {
   "cell_type": "markdown",
   "metadata": {},
   "source": [
    "The AUC ratio = 0.72 for the \"best\" model is relevant, its performance much better than the trained_coxph model. We conclude that the stepwise strategy is a good choice to select the model for this kind of dataset. Of course, we can try another technique to find out a more appropriate model or simply by including more features for the best or for the worse ! "
   ]
  },
  {
   "cell_type": "markdown",
   "metadata": {},
   "source": [
    "# General conlusion for two datasets"
   ]
  },
  {
   "cell_type": "markdown",
   "metadata": {},
   "source": [
    "I have investigated the survival analysis of the two datasets (resort/city hotel booking) that reveals  different behaviours depending on the booking category (resort/city hotel). It is shown that the impact of the features would be a key factor in a cancellation or not for a resort/city hotel booking. For instance, *Babies* exhibits a relevant impact in a resort booking as compared with a city hotel booking. Finally, the prediction models compiled with the stepwise approach exhibit a reliable prediction for both datasets, that indicates that a AIC-based stepwise technique is a simple and a good approach for a regression problem in survival analysis. "
   ]
  },
  {
   "cell_type": "markdown",
   "metadata": {},
   "source": [
    "---\n",
    "### Annexe : Matingale residuals, case deletion residuals (Resort dataset)"
   ]
  },
  {
   "cell_type": "markdown",
   "metadata": {},
   "source": [
    "**Martingale residuals:**"
   ]
  },
  {
   "cell_type": "code",
   "execution_count": 120,
   "metadata": {},
   "outputs": [],
   "source": [
    "# We have to group the covariates of the resort_train dataset as we did for coxph analysis\n",
    "\n",
    "resort_train_group <- resort_train %>%\n",
    "                    mutate(DistributionChannel = factor(ifelse(DistributionChannel==\"Direct\", \n",
    "                                                    \"Direct\", \"Mediator\"),  levels = c(\"Direct\", \"Mediator\")),\n",
    "                   Babies = factor(ifelse(Babies==0,\"No\", \"Yes\"), levels = c(\"No\", \"Yes\")),\n",
    "                   DepositType = factor(ifelse(DepositType==\"Non Refund\", \"Non Refund\", \"Refund\"), \n",
    "                                        levels = c(\"Non Refund\", \"Refund\")))"
   ]
  },
  {
   "cell_type": "code",
   "execution_count": 121,
   "metadata": {},
   "outputs": [
    {
     "data": {
      "image/png": "[encoded data removed]",
      "text/plain": [
       "plot without title"
      ]
     },
     "metadata": {
      "image/png": {
       "height": 180,
       "width": 300
      },
      "text/plain": {
       "height": 180,
       "width": 300
      }
     },
     "output_type": "display_data"
    }
   ],
   "source": [
    "resort_train_group$residual <- residuals(trained_best_model, type = \"martingale\")\n",
    "fig1 <- ggplot(resort_train_group, aes(ADR, residual)) +  \n",
    "       geom_point(alpha = 0.1, color = \"orange\")\n",
    "fig2 <- ggplot(resort_train_group, aes(DepositType, residual)) +  \n",
    "       geom_boxplot(alpha = 0.5, color= \"blue\")\n",
    "options(repr.plot.width=5, repr.plot.height=3)\n",
    "ggarrange(fig1,fig2,labels = c(\"A\", \"B\"), ncol = 2, nrow = 1)"
   ]
  },
  {
   "cell_type": "markdown",
   "metadata": {},
   "source": [
    "**Case deletion residuals :**\n"
   ]
  },
  {
   "cell_type": "code",
   "execution_count": 123,
   "metadata": {},
   "outputs": [
    {
     "data": {
      "image/png": "[encoded data removed]",
      "text/plain": [
       "plot without title"
      ]
     },
     "metadata": {
      "image/png": {
       "height": 120,
       "width": 300
      },
      "text/plain": {
       "height": 120,
       "width": 300
      }
     },
     "output_type": "display_data"
    }
   ],
   "source": [
    "dfbetas <- residuals(trained_best_model, type = 'dfbetas')\n",
    "resort_train_group$dfbetas <- sqrt(rowSums(dfbetas^2))\n",
    "options(repr.plot.width=5, repr.plot.height=2)\n",
    "ggplot(resort_train_group, aes(x = as.numeric(row.names(resort_train_group)), y=dfbetas))+\n",
    "    xlab(\"Index\") +\n",
    "    ylab(\"Betas by case deletion\") +\n",
    "    geom_line(color = \"purple\")"
   ]
  },
  {
   "cell_type": "code",
   "execution_count": 126,
   "metadata": {},
   "outputs": [
    {
     "data": {
      "text/html": [
       "<table>\n",
       "<caption>A tibble: 4 × 16</caption>\n",
       "<thead>\n",
       "\t<tr><th scope=col>IsCanceled</th><th scope=col>LeadTime</th><th scope=col>ArrivalDateMonth</th><th scope=col>StaysInWeekendNights</th><th scope=col>StaysInWeekNights</th><th scope=col>Adults</th><th scope=col>Children</th><th scope=col>Babies</th><th scope=col>ADR</th><th scope=col>DistributionChannel</th><th scope=col>DepositType</th><th scope=col>BookToCancel</th><th scope=col>havingKids</th><th scope=col>totalNights</th><th scope=col>residual</th><th scope=col>dfbetas</th></tr>\n",
       "\t<tr><th scope=col>&lt;int&gt;</th><th scope=col>&lt;dbl&gt;</th><th scope=col>&lt;fct&gt;</th><th scope=col>&lt;dbl&gt;</th><th scope=col>&lt;dbl&gt;</th><th scope=col>&lt;int&gt;</th><th scope=col>&lt;int&gt;</th><th scope=col>&lt;fct&gt;</th><th scope=col>&lt;int&gt;</th><th scope=col>&lt;fct&gt;</th><th scope=col>&lt;fct&gt;</th><th scope=col>&lt;dbl&gt;</th><th scope=col>&lt;int&gt;</th><th scope=col>&lt;dbl&gt;</th><th scope=col>&lt;dbl&gt;</th><th scope=col>&lt;dbl&gt;</th></tr>\n",
       "</thead>\n",
       "<tbody>\n",
       "\t<tr><td>1</td><td>11.081967</td><td>Other Season</td><td>2</td><td>0</td><td>55</td><td>0</td><td>Yes</td><td>  0</td><td>Direct  </td><td>Refund</td><td> 63</td><td>0</td><td>2</td><td> 0.7377748</td><td>0.6402593</td></tr>\n",
       "\t<tr><td>1</td><td>10.459016</td><td>Other Season</td><td>0</td><td>1</td><td> 2</td><td>0</td><td>Yes</td><td>382</td><td>Mediator</td><td>Refund</td><td>  6</td><td>0</td><td>1</td><td>-5.3002075</td><td>0.3680736</td></tr>\n",
       "\t<tr><td>1</td><td>11.016393</td><td>Other Season</td><td>1</td><td>2</td><td>50</td><td>0</td><td>Yes</td><td>  0</td><td>Direct  </td><td>Refund</td><td>104</td><td>0</td><td>3</td><td> 0.7640538</td><td>0.6010699</td></tr>\n",
       "\t<tr><td>1</td><td> 9.967213</td><td>Other Season</td><td>0</td><td>3</td><td>40</td><td>0</td><td>Yes</td><td>  0</td><td>Direct  </td><td>Refund</td><td> 60</td><td>0</td><td>3</td><td> 0.7692484</td><td>0.4809760</td></tr>\n",
       "</tbody>\n",
       "</table>\n"
      ],
      "text/latex": [
       "A tibble: 4 × 16\n",
       "\\begin{tabular}{llllllllllllllll}\n",
       " IsCanceled & LeadTime & ArrivalDateMonth & StaysInWeekendNights & StaysInWeekNights & Adults & Children & Babies & ADR & DistributionChannel & DepositType & BookToCancel & havingKids & totalNights & residual & dfbetas\\\\\n",
       " <int> & <dbl> & <fct> & <dbl> & <dbl> & <int> & <int> & <fct> & <int> & <fct> & <fct> & <dbl> & <int> & <dbl> & <dbl> & <dbl>\\\\\n",
       "\\hline\n",
       "\t 1 & 11.081967 & Other Season & 2 & 0 & 55 & 0 & Yes &   0 & Direct   & Refund &  63 & 0 & 2 &  0.7377748 & 0.6402593\\\\\n",
       "\t 1 & 10.459016 & Other Season & 0 & 1 &  2 & 0 & Yes & 382 & Mediator & Refund &   6 & 0 & 1 & -5.3002075 & 0.3680736\\\\\n",
       "\t 1 & 11.016393 & Other Season & 1 & 2 & 50 & 0 & Yes &   0 & Direct   & Refund & 104 & 0 & 3 &  0.7640538 & 0.6010699\\\\\n",
       "\t 1 &  9.967213 & Other Season & 0 & 3 & 40 & 0 & Yes &   0 & Direct   & Refund &  60 & 0 & 3 &  0.7692484 & 0.4809760\\\\\n",
       "\\end{tabular}\n"
      ],
      "text/markdown": [
       "\n",
       "A tibble: 4 × 16\n",
       "\n",
       "| IsCanceled &lt;int&gt; | LeadTime &lt;dbl&gt; | ArrivalDateMonth &lt;fct&gt; | StaysInWeekendNights &lt;dbl&gt; | StaysInWeekNights &lt;dbl&gt; | Adults &lt;int&gt; | Children &lt;int&gt; | Babies &lt;fct&gt; | ADR &lt;int&gt; | DistributionChannel &lt;fct&gt; | DepositType &lt;fct&gt; | BookToCancel &lt;dbl&gt; | havingKids &lt;int&gt; | totalNights &lt;dbl&gt; | residual &lt;dbl&gt; | dfbetas &lt;dbl&gt; |\n",
       "|---|---|---|---|---|---|---|---|---|---|---|---|---|---|---|---|\n",
       "| 1 | 11.081967 | Other Season | 2 | 0 | 55 | 0 | Yes |   0 | Direct   | Refund |  63 | 0 | 2 |  0.7377748 | 0.6402593 |\n",
       "| 1 | 10.459016 | Other Season | 0 | 1 |  2 | 0 | Yes | 382 | Mediator | Refund |   6 | 0 | 1 | -5.3002075 | 0.3680736 |\n",
       "| 1 | 11.016393 | Other Season | 1 | 2 | 50 | 0 | Yes |   0 | Direct   | Refund | 104 | 0 | 3 |  0.7640538 | 0.6010699 |\n",
       "| 1 |  9.967213 | Other Season | 0 | 3 | 40 | 0 | Yes |   0 | Direct   | Refund |  60 | 0 | 3 |  0.7692484 | 0.4809760 |\n",
       "\n"
      ],
      "text/plain": [
       "  IsCanceled LeadTime  ArrivalDateMonth StaysInWeekendNights StaysInWeekNights\n",
       "1 1          11.081967 Other Season     2                    0                \n",
       "2 1          10.459016 Other Season     0                    1                \n",
       "3 1          11.016393 Other Season     1                    2                \n",
       "4 1           9.967213 Other Season     0                    3                \n",
       "  Adults Children Babies ADR DistributionChannel DepositType BookToCancel\n",
       "1 55     0        Yes      0 Direct              Refund       63         \n",
       "2  2     0        Yes    382 Mediator            Refund        6         \n",
       "3 50     0        Yes      0 Direct              Refund      104         \n",
       "4 40     0        Yes      0 Direct              Refund       60         \n",
       "  havingKids totalNights residual   dfbetas  \n",
       "1 0          2            0.7377748 0.6402593\n",
       "2 0          1           -5.3002075 0.3680736\n",
       "3 0          3            0.7640538 0.6010699\n",
       "4 0          3            0.7692484 0.4809760"
      ]
     },
     "metadata": {},
     "output_type": "display_data"
    }
   ],
   "source": [
    "# Here are \"outliers\" causing  high $\\betas$ (>0.4) : \n",
    "filter(resort_train_group, dfbetas>0.3)"
   ]
  }
 ],
 "metadata": {
  "kernelspec": {
   "display_name": "R",
   "language": "R",
   "name": "ir"
  },
  "language_info": {
   "codemirror_mode": "r",
   "file_extension": ".r",
   "mimetype": "text/x-r-source",
   "name": "R",
   "pygments_lexer": "r",
   "version": "3.6.1"
  }
 },
 "nbformat": 4,
 "nbformat_minor": 2
}
